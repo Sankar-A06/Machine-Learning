{
  "nbformat": 4,
  "nbformat_minor": 0,
  "metadata": {
    "colab": {
      "provenance": [],
      "authorship_tag": "ABX9TyP1sfrn2ltzq879JZzgVpNx",
      "include_colab_link": true
    },
    "kernelspec": {
      "name": "python3",
      "display_name": "Python 3"
    },
    "language_info": {
      "name": "python"
    }
  },
  "cells": [
    {
      "cell_type": "markdown",
      "metadata": {
        "id": "view-in-github",
        "colab_type": "text"
      },
      "source": [
        "<a href=\"https://colab.research.google.com/github/Sankar-A06/Machine-Learning/blob/main/Assignment1.ipynb\" target=\"_parent\"><img src=\"https://colab.research.google.com/assets/colab-badge.svg\" alt=\"Open In Colab\"/></a>"
      ]
    },
    {
      "cell_type": "markdown",
      "source": [],
      "metadata": {
        "id": "wzXX8RVvAazb"
      }
    },
    {
      "cell_type": "markdown",
      "source": [
        "#Assignment 1\n",
        "1.Peform arithemetic operation on NumPy arrays."
      ],
      "metadata": {
        "id": "9bcYKyNl15In"
      }
    },
    {
      "cell_type": "markdown",
      "source": [],
      "metadata": {
        "id": "7_9o2WmJeFvv"
      }
    },
    {
      "cell_type": "code",
      "source": [
        "import numpy as np\n",
        "a = np.array([[2,4,6], [8,10,12],[14,16,18]])# ,dtype=np.float64)\n",
        "b = np.array([[1,2,3],[4,5,6],[7,8,9]])#, dtype=np.float64)\n",
        "#Elementwise addition\n",
        "#print(a+b)\n",
        "print(\"addition:- \")\n",
        "print(np.add(a,b))\n",
        "#ElementWise subtraction\n",
        "#print(a-b)\n",
        "print(\"subtraction:- \")\n",
        "print(np.subtract(a,b))\n",
        "#Elementwise multiplication\n",
        "#print(a*b)\n",
        "print(\"multilplication:- \")\n",
        "print(np.multiply(a,b))\n",
        "#Elemmentary Division\n",
        "#print(a/b)\n",
        "print(\"Division:- \")\n",
        "print(np.divide(a,b))\n",
        "#Elementary power\n",
        "#print(a**b)\n",
        "print(\"power:- \")\n",
        "print(np.power(a,b))\n",
        "#Each element  in an array divides its corresponding element in another array and get remainder mod() or remainder() functions\n",
        "#print(a%b)\n",
        "print(\"remainder:- \")\n",
        "print(np.mod(a,b))\n",
        "#Elementary division and get corresponding quiotent\n",
        "#print(a//b)\n",
        "print(\"quotient:- \")\n",
        "print(np.divmod(a,b))\n",
        "#Each element got a positive value\n",
        "print(\"absolute:- \")\n",
        "print(np.abs(a))\n",
        "print(\"absolute:- \")\n",
        "print(np.abs(b))\n",
        "#Broadcasting\n",
        "#arithmetic operations on scalar by broadcasting\n",
        "print(a+2)"
      ],
      "metadata": {
        "colab": {
          "base_uri": "https://localhost:8080/"
        },
        "collapsed": true,
        "id": "sasPSVUx2B8K",
        "outputId": "0439b263-2110-4fb8-be76-5b076e59b480"
      },
      "execution_count": 2,
      "outputs": [
        {
          "output_type": "stream",
          "name": "stdout",
          "text": [
            "addition:- \n",
            "[[ 3  6  9]\n",
            " [12 15 18]\n",
            " [21 24 27]]\n",
            "subtraction:- \n",
            "[[1 2 3]\n",
            " [4 5 6]\n",
            " [7 8 9]]\n",
            "multilplication:- \n",
            "[[  2   8  18]\n",
            " [ 32  50  72]\n",
            " [ 98 128 162]]\n",
            "Division:- \n",
            "[[2. 2. 2.]\n",
            " [2. 2. 2.]\n",
            " [2. 2. 2.]]\n",
            "power:- \n",
            "[[           2           16          216]\n",
            " [        4096       100000      2985984]\n",
            " [   105413504   4294967296 198359290368]]\n",
            "remainder:- \n",
            "[[0 0 0]\n",
            " [0 0 0]\n",
            " [0 0 0]]\n",
            "quotient:- \n",
            "(array([[2, 2, 2],\n",
            "       [2, 2, 2],\n",
            "       [2, 2, 2]]), array([[0, 0, 0],\n",
            "       [0, 0, 0],\n",
            "       [0, 0, 0]]))\n",
            "absolute:- \n",
            "[[ 2  4  6]\n",
            " [ 8 10 12]\n",
            " [14 16 18]]\n",
            "absolute:- \n",
            "[[1 2 3]\n",
            " [4 5 6]\n",
            " [7 8 9]]\n",
            "[[ 4  6  8]\n",
            " [10 12 14]\n",
            " [16 18 20]]\n"
          ]
        }
      ]
    },
    {
      "cell_type": "markdown",
      "source": [
        "2.Write a Script to compute the mean and standard deviation of a Numpy Array.\n",
        "\n",
        "Mean = sum_of_obesrvations/number_of_observations.\n",
        "\n",
        "standard_deviation=sqrtof(xi-mean)^2/N."
      ],
      "metadata": {
        "id": "qmsQ3pU1ArLj"
      }
    },
    {
      "cell_type": "code",
      "source": [
        "array = np.array([1,2,3,4,5,6,7,8,9,10])\n",
        "#function to find mean\n",
        "def mean(arr):\n",
        "  return np.mean(arr)\n",
        "#function to find standard deviation\n",
        "def st_dev(arr):\n",
        "  return np.std(arr)\n",
        "print(\"Mean \",mean(array))\n",
        "print(\"Standard Deviation \",st_dev(array))\n"
      ],
      "metadata": {
        "colab": {
          "base_uri": "https://localhost:8080/"
        },
        "id": "btFTq3SREPTD",
        "outputId": "2225d44d-6b8a-4a60-e9af-66679616f449"
      },
      "execution_count": null,
      "outputs": [
        {
          "output_type": "stream",
          "name": "stdout",
          "text": [
            "Mean  5.5\n",
            "Standard Deviation  2.8722813232690143\n"
          ]
        }
      ]
    },
    {
      "cell_type": "markdown",
      "source": [
        "3.Create a NumPy array of integers from 10 to 50 with a step size of 5."
      ],
      "metadata": {
        "id": "nUNZ2hXNH2P4"
      }
    },
    {
      "cell_type": "code",
      "source": [
        "#Creating a NumPy array of integers from 10 to 50 with a step size of 5\n",
        "x = np.arange(10,55,5)\n",
        "print(x)\n",
        "#or\n",
        "print(\"or\")\n",
        "a=[]\n",
        "for i in range(10,55,5):\n",
        "  a.append(i)\n",
        "print(a)"
      ],
      "metadata": {
        "colab": {
          "base_uri": "https://localhost:8080/"
        },
        "id": "HBfUmV_3g9-m",
        "outputId": "f8f1e91a-e71e-49b7-a4da-9a1641f25b64"
      },
      "execution_count": null,
      "outputs": [
        {
          "output_type": "stream",
          "name": "stdout",
          "text": [
            "[10 15 20 25 30 35 40 45 50]\n",
            "or\n",
            "[10, 15, 20, 25, 30, 35, 40, 45, 50]\n"
          ]
        }
      ]
    },
    {
      "cell_type": "markdown",
      "source": [
        "4.Reshape the array into a 2x4 matrix"
      ],
      "metadata": {
        "id": "KWdxvmFwjPT2"
      }
    },
    {
      "cell_type": "code",
      "source": [
        "x = np.arange(10,50,5)#first it is a 1x8 matrix\n",
        "print(np.shape(x))\n",
        "print(\"1x8 matrix\")\n",
        "print(x)\n",
        "print(\"2x4 matrix\")\n",
        "print(x.reshape(2,4))#reshape into 2x4 matrix\n",
        "print(x.reshape(2,4).shape)"
      ],
      "metadata": {
        "colab": {
          "base_uri": "https://localhost:8080/"
        },
        "collapsed": true,
        "id": "ZqbYki_SkB2H",
        "outputId": "1c18283b-195d-43a6-c65b-3bc1ae38c9e7"
      },
      "execution_count": null,
      "outputs": [
        {
          "output_type": "stream",
          "name": "stdout",
          "text": [
            "(8,)\n",
            "1x8 matrix\n",
            "[10 15 20 25 30 35 40 45]\n",
            "2x4 matrix\n",
            "[[10 15 20 25]\n",
            " [30 35 40 45]]\n",
            "(2, 4)\n"
          ]
        }
      ]
    },
    {
      "cell_type": "markdown",
      "source": [
        "5.Given the array arr = np.array([[1, 2, 3], [4, 5, 6], [7, 8, 9]]):\n",
        "\n",
        "i)\tExtract the sub-matrix containing the last two rows and first two columns.\n",
        "\n",
        "\n"
      ],
      "metadata": {
        "id": "I6LozXP8mnmm"
      }
    },
    {
      "cell_type": "code",
      "source": [
        "arr = np.array([[1,2,3],[4,5,6],[7,8,9]])# Extract the sub-matrix containing the last two rows and first two columns\n",
        "print(arr[1:3,0:2])"
      ],
      "metadata": {
        "colab": {
          "base_uri": "https://localhost:8080/"
        },
        "id": "kEMQG6Sfm-2p",
        "outputId": "5aa8785f-3041-4a85-e239-76c6d8e4d8fa"
      },
      "execution_count": null,
      "outputs": [
        {
          "output_type": "stream",
          "name": "stdout",
          "text": [
            "[[4 5]\n",
            " [7 8]]\n"
          ]
        }
      ]
    },
    {
      "cell_type": "markdown",
      "source": [
        "ii)\tReplace all elements greater than 4 with 0."
      ],
      "metadata": {
        "id": "YaQlqrcLn-o2"
      }
    },
    {
      "cell_type": "code",
      "source": [
        "arr = np.array([[1,2,3],[4,5,6],[7,8,9]])#Replace all elements greater than 4 with 0\n",
        "print(arr[arr>4])\n",
        "arr[arr>4]=0\n",
        "print(arr)"
      ],
      "metadata": {
        "colab": {
          "base_uri": "https://localhost:8080/"
        },
        "id": "cw-V129PoB-w",
        "outputId": "28a62136-5430-4e6c-aa53-84c69366717f"
      },
      "execution_count": null,
      "outputs": [
        {
          "output_type": "stream",
          "name": "stdout",
          "text": [
            "[5 6 7 8 9]\n",
            "[[1 2 3]\n",
            " [4 0 0]\n",
            " [0 0 0]]\n"
          ]
        }
      ]
    },
    {
      "cell_type": "markdown",
      "source": [
        "5.Given the array arr = np.array([[1, 2, 3], [4, 5, 6], [7, 8, 9]]):\n",
        "\n",
        "•\tExtract the sub-matrix containing the last two rows and first two columns.\n",
        "\n",
        "•\tReplace all elements greater than 4 with 0.\n"
      ],
      "metadata": {
        "id": "MGR9EFUIqsa8"
      }
    },
    {
      "cell_type": "code",
      "source": [
        "arr = np.array([[1,2,3],[4,5,6],[7,8,9]])#Extract the sub-matrix containing the last two rows and first two columns\n",
        "array = arr[1:,:2]\n",
        "array[array>4]=0#Replace all elements greater than 4 with 0\n",
        "print(array)\n"
      ],
      "metadata": {
        "colab": {
          "base_uri": "https://localhost:8080/"
        },
        "id": "HXjFOycfq7Iq",
        "outputId": "a7835cb9-fe22-444e-f75b-d23eae74e10b"
      },
      "execution_count": null,
      "outputs": [
        {
          "output_type": "stream",
          "name": "stdout",
          "text": [
            "[[4 0]\n",
            " [0 0]]\n"
          ]
        }
      ]
    },
    {
      "cell_type": "markdown",
      "source": [
        "6.Create two 1D arrays:\n",
        "\n",
        "•\ta = np.array([1, 2, 3])\n",
        "\n",
        "•\tb = np.array([4, 5, 6])\n",
        "\n",
        "•\tPerform element-wise addition, multiplication, and division.\n"
      ],
      "metadata": {
        "id": "JJyKhFIcrmV9"
      }
    },
    {
      "cell_type": "code",
      "source": [
        "a = np.array([1, 2, 3])\n",
        "\n",
        "b = np.array([4, 5, 6])\n",
        "print(\"Element-wise Addition\")\n",
        "print(a+b)#Element-wise addition\n",
        "print(\"Element-wise multiplication\")\n",
        "print(a*b)#Element-wise multiplication\n",
        "print(\"Element-wise Division\")\n",
        "print(a/b)#Element-wise Division"
      ],
      "metadata": {
        "colab": {
          "base_uri": "https://localhost:8080/"
        },
        "id": "gM0ZepH1tXwW",
        "outputId": "05e4419c-1183-4afc-ca0a-461b545f690d"
      },
      "execution_count": null,
      "outputs": [
        {
          "output_type": "stream",
          "name": "stdout",
          "text": [
            "Element-wise Addition\n",
            "[5 7 9]\n",
            "Element-wise multiplication\n",
            "[ 4 10 18]\n",
            "Element-wise Division\n",
            "[0.25 0.4  0.5 ]\n"
          ]
        }
      ]
    },
    {
      "cell_type": "markdown",
      "source": [
        "7.Create a random NumPy array of size (4, 4). Compute:\n",
        "\n",
        "•\tMean of each column.\n",
        "\n",
        "•\tMaximum value of the entire array.\n",
        "\n",
        "•\tSum of all elements.\n"
      ],
      "metadata": {
        "id": "T3LTmeOpt09w"
      }
    },
    {
      "cell_type": "code",
      "source": [
        "arr = np.array([[1,2,3,4],[5,6,7,8],[9,10,11,12],[13,14,15,16]])\n",
        "for i in range(4):\n",
        "  print(\"Mean:-\",np.mean(arr[:,i:i+1]))#Mean of each column\n",
        "print(\"max:- \",np.max(arr))# Maximum value of the entire array.\n",
        "print(\"Sum:- \",np.sum(arr))#Sum of all elements\n"
      ],
      "metadata": {
        "colab": {
          "base_uri": "https://localhost:8080/"
        },
        "collapsed": true,
        "id": "lSPs61ruuG2z",
        "outputId": "80d9b1aa-62a1-4b58-e44f-fbf94bbf99dd"
      },
      "execution_count": null,
      "outputs": [
        {
          "output_type": "stream",
          "name": "stdout",
          "text": [
            "Mean:- 7.0\n",
            "Mean:- 8.0\n",
            "Mean:- 9.0\n",
            "Mean:- 10.0\n",
            "max:-  16\n",
            "Sum:-  136\n"
          ]
        }
      ]
    },
    {
      "cell_type": "markdown",
      "source": [
        "8.Given the array arr = np.array([1, 2, 3, 4]), add 10 to each element and\n",
        "\n",
        "multiply the result by 2."
      ],
      "metadata": {
        "id": "CQlHzGdvx1wm"
      }
    },
    {
      "cell_type": "code",
      "source": [
        "arr = np.array([1,2,3,4])#add 10 to each element and multiply the result by 2.\n",
        "a = arr+10\n",
        "print(\"sum:- \",np.sum(a)*2)"
      ],
      "metadata": {
        "colab": {
          "base_uri": "https://localhost:8080/"
        },
        "id": "Xdk-cX1oyc3-",
        "outputId": "18217584-8913-4645-c3f0-5a1a42cdb250"
      },
      "execution_count": null,
      "outputs": [
        {
          "output_type": "stream",
          "name": "stdout",
          "text": [
            "sum:-  100\n"
          ]
        }
      ]
    },
    {
      "cell_type": "markdown",
      "source": [
        "9.Perform advanced slicing and indexing on a 3D array.\n",
        "\n",
        "Create a 3D NumPy array arr of shape (3, 4, 5) with random integers\n",
        "\n",
        "ranging from 1 to 100. Perform the following:\n",
        "\n",
        "•\tExtract the second \"layer\" (i.e., the second 2D array) in the first\n",
        "\n",
        "dimension. • Extract the first two rows and the last three columns from\n",
        "\n",
        "each \"layer.\"\n",
        "\n",
        "•\tReplace all elements divisible by 3 with -1.\n"
      ],
      "metadata": {
        "id": "VoBkvWb6zmrD"
      }
    },
    {
      "cell_type": "code",
      "source": [
        "a = np.random.randint(1,101,size=(3,4,5))#Here is the 3D array with shape(3,4,5) with random integers ranging from 1 to 100\n",
        "#Here  I Extract the second layer (i.e., the second 2D array) in the first dimension.\n",
        "print(a)\n",
        "print(\"Extract the second layer (i.e., the second 2D array) in the first dimension\")\n",
        "print(a[1:2,:,:])\n",
        "print()\n",
        "#Extract the first two rows and the last three columns from each layer or first dimension.\n",
        "print(\"Here I Extract the first two rows and the last three columns from each layer or first dimension.\")\n",
        "print(a[:,:2,-3:])\n",
        "print()\n",
        "a[a%3==0]=-1\n",
        "print(\"Replace all elements divisible by 3 with -1\")\n",
        "print(a)# Replace all elements divisible by 3 with -1"
      ],
      "metadata": {
        "colab": {
          "base_uri": "https://localhost:8080/"
        },
        "id": "xjSvYCMYzy1c",
        "outputId": "87875398-d1ba-4d8b-a76a-404f8d392395"
      },
      "execution_count": null,
      "outputs": [
        {
          "output_type": "stream",
          "name": "stdout",
          "text": [
            "[[[ 39  51  21  75  38]\n",
            "  [ 15  66  96  62  67]\n",
            "  [ 76  71  44 100  87]\n",
            "  [ 31  66  69 100  68]]\n",
            "\n",
            " [[ 58  49  64  30  86]\n",
            "  [ 21  34  62  83  83]\n",
            "  [ 92   9  88  31  70]\n",
            "  [ 94  83 100  25  35]]\n",
            "\n",
            " [[ 87  64  71  80  16]\n",
            "  [ 81  16  76  70  90]\n",
            "  [ 15   1  93  43  80]\n",
            "  [ 59  16  22  74  41]]]\n",
            "Extract the second layer (i.e., the second 2D array) in the first dimension\n",
            "[[[ 58  49  64  30  86]\n",
            "  [ 21  34  62  83  83]\n",
            "  [ 92   9  88  31  70]\n",
            "  [ 94  83 100  25  35]]]\n",
            "\n",
            "Here I Extract the first two rows and the last three columns from each layer or first dimension.\n",
            "[[[21 75 38]\n",
            "  [96 62 67]]\n",
            "\n",
            " [[64 30 86]\n",
            "  [62 83 83]]\n",
            "\n",
            " [[71 80 16]\n",
            "  [76 70 90]]]\n",
            "\n",
            "Replace all elements divisible by 3 with -1\n",
            "[[[ -1  -1  -1  -1  38]\n",
            "  [ -1  -1  -1  62  67]\n",
            "  [ 76  71  44 100  -1]\n",
            "  [ 31  -1  -1 100  68]]\n",
            "\n",
            " [[ 58  49  64  -1  86]\n",
            "  [ -1  34  62  83  83]\n",
            "  [ 92  -1  88  31  70]\n",
            "  [ 94  83 100  25  35]]\n",
            "\n",
            " [[ -1  64  71  80  16]\n",
            "  [ -1  16  76  70  -1]\n",
            "  [ -1   1  -1  43  80]\n",
            "  [ 59  16  22  74  41]]]\n"
          ]
        }
      ]
    },
    {
      "cell_type": "markdown",
      "source": [
        "10.Work with broadcasting and advanced operations in NumPy.\n",
        "\n",
        "Create a NumPy array arr of shape (3, 3) with random integers\n",
        "\n",
        "between 1 and 20. Perform the following:\n",
        "\n",
        "•\tSubtract the mean of each row from its respective elements\n",
        "\n",
        " (row-wise normalization).\n",
        "\n",
        "•\tCreate a new array by squaring all the elements in arr.\n",
        "\n",
        "•\tFind the indices of the top 3 maximum values in the entire array.\n"
      ],
      "metadata": {
        "id": "aZZbcVyfz7VR"
      }
    },
    {
      "cell_type": "code",
      "source": [
        "\n",
        "arr = np.random.randint(1, 21, size=(3, 3))# Create a NumPy array arr of shape (3, 3) with random integers between 1 and 20.\n",
        "row1=arr[0:1,:]-np.mean(arr[0:1,:])# Subtract the mean of each row from its respective elements (row-wise normalization).\n",
        "row2=arr[1:2,:]-np.mean(arr[1:2,:])\n",
        "row3=arr[2:3,:]-np.mean(arr[2:3,:])\n",
        "print(\"original array:-\",arr)\n",
        "print(row1,\"\\n\",row2,\"\\n\",row3)\n",
        "squared_arr = np.square(arr)# Create a new array by squaring all the elements in arr.\n",
        "flat_arr = arr.ravel()\n",
        "sorted_indices = np.argsort(flat_arr)[-3:]\n",
        "highest_indices = [np.unravel_index(idx, arr.shape) for idx in sorted_indices]\n",
        "highest_values= [flat_arr[idx] for idx in sorted_indices]\n",
        "#print(\"Row-Wise Normalization\",normalized_arr)\n",
        "print(\"Squared Array\",squared_arr)\n",
        "for value, index in zip(highest_values,highest_indices):\n",
        "    print(\"Value:\",value, \"at Index: \",index)"
      ],
      "metadata": {
        "colab": {
          "base_uri": "https://localhost:8080/"
        },
        "id": "0g1285snz-s0",
        "outputId": "99a763d1-cbb1-4d39-bad5-6bfec5772e44"
      },
      "execution_count": 7,
      "outputs": [
        {
          "output_type": "stream",
          "name": "stdout",
          "text": [
            "original array:- [[17  6 14]\n",
            " [ 1 19 18]\n",
            " [18 19 10]]\n",
            "[[ 4.66666667 -6.33333333  1.66666667]] \n",
            " [[-11.66666667   6.33333333   5.33333333]] \n",
            " [[ 2.33333333  3.33333333 -5.66666667]]\n",
            "Squared Array [[289  36 196]\n",
            " [  1 361 324]\n",
            " [324 361 100]]\n",
            "Value: 18 at Index:  (2, 0)\n",
            "Value: 19 at Index:  (1, 1)\n",
            "Value: 19 at Index:  (2, 1)\n"
          ]
        }
      ]
    }
  ]
}