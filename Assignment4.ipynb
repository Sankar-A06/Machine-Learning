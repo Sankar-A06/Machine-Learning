{
  "nbformat": 4,
  "nbformat_minor": 0,
  "metadata": {
    "colab": {
      "provenance": [],
      "collapsed_sections": [
        "dJnGgoU6YbZs",
        "lxi73abMdPDQ"
      ],
      "authorship_tag": "ABX9TyNcOAp/ytgR5gw4ExjvGc4/",
      "include_colab_link": true
    },
    "kernelspec": {
      "name": "python3",
      "display_name": "Python 3"
    },
    "language_info": {
      "name": "python"
    }
  },
  "cells": [
    {
      "cell_type": "markdown",
      "metadata": {
        "id": "view-in-github",
        "colab_type": "text"
      },
      "source": [
        "<a href=\"https://colab.research.google.com/github/Sankar-A06/Machine-Learning/blob/main/Assignment4.ipynb\" target=\"_parent\"><img src=\"https://colab.research.google.com/assets/colab-badge.svg\" alt=\"Open In Colab\"/></a>"
      ]
    },
    {
      "cell_type": "markdown",
      "source": [
        "#Exploration Data analysis and data visualization techniques on\n",
        "##**Mobile data Usage and user behavior Dataset**"
      ],
      "metadata": {
        "id": "EgMFAgkRiVcY"
      }
    },
    {
      "cell_type": "markdown",
      "source": [
        "## 1.*Understanding the data*"
      ],
      "metadata": {
        "id": "Ul55r2RofkmO"
      }
    },
    {
      "cell_type": "markdown",
      "source": [
        "Throught this dataset I **achieve** a wealth of information that can be used to achieve a variety of goals, including:\n",
        " * **Understanding user behavior**\n",
        " * **Improving app performance**\n",
        " * **Predicting user behavior**\n",
        " * **Conducting research**\n",
        " * **Identifying the most popular apps and features**\n",
        " * **Understanding how users use different apps**\n",
        " * **Developing personalized recommendations**\n",
        "\n",
        "\n",
        "Mobile usage and user behavior datasets are a valuable resource for businesses, researchers, and developers. By analyzing this data, I can gain a deeper understanding of user behavior and develop more effective and engaging mobile experiences."
      ],
      "metadata": {
        "id": "aO8IRkBTFsaC"
      }
    },
    {
      "cell_type": "markdown",
      "source": [
        "This dataset is used to understand user behavior and patterns of mobile device usage. Key Features:\n",
        "\n",
        "**User ID**: Unique identifier for each user.\n",
        "\n",
        "**Device Model**: Model of the user's smartphone.\n",
        "\n",
        "**Operating System**: The OS of the device (iOS or Android).\n",
        "\n",
        "**App Usage Time**: Daily time spent on mobile applications, measured in minutes.\n",
        "\n",
        "**Screen On Time**: Average hours per day the screen is active.\n",
        "\n",
        "**Battery Drain**: Daily battery consumption in mAh.\n",
        "Number of Apps Installed: Total apps available on the device.\n",
        "\n",
        "**Data Usage**: Daily mobile data consumption in megabytes.\n",
        "\n",
        "**Age**: Age of the user.\n",
        "\n",
        "**Gender**: Gender of the user (Male or Female).\n",
        "\n",
        "**User Behavior Class**: Classification of user behavior based on usage patterns (1 to 5)."
      ],
      "metadata": {
        "id": "uIZ-hqSoAwVz"
      }
    },
    {
      "cell_type": "markdown",
      "source": [
        "Here are the 10 columns i have taken to this dataset .one after another columns are correlated .I understand the data should be explained further with detailed correlation\n"
      ],
      "metadata": {
        "id": "dAzSIM9tBYjp"
      }
    },
    {
      "cell_type": "markdown",
      "source": [
        "### Importing libraries"
      ],
      "metadata": {
        "id": "z5w2K377CxZG"
      }
    },
    {
      "cell_type": "code",
      "source": [
        "import numpy as np\n",
        "import pandas as pd\n",
        "import matplotlib.pyplot as plt\n",
        "import seaborn as sns"
      ],
      "metadata": {
        "id": "LstXJbpfDC-J"
      },
      "execution_count": 2,
      "outputs": []
    },
    {
      "cell_type": "markdown",
      "source": [
        "##*2.Data Collection*"
      ],
      "metadata": {
        "id": "OM1tATBugFS_"
      }
    },
    {
      "cell_type": "markdown",
      "source": [
        "### Load the Dataset"
      ],
      "metadata": {
        "id": "kOByOTfaDXkK"
      }
    },
    {
      "cell_type": "code",
      "source": [
        "data =pd.read_csv(\"/content/user_behavior_dataset.csv\")\n",
        "data.info()"
      ],
      "metadata": {
        "colab": {
          "base_uri": "https://localhost:8080/"
        },
        "id": "9h4L4Da5DbVS",
        "outputId": "c53fb2d9-9d8b-429c-8861-000e95f144eb"
      },
      "execution_count": 3,
      "outputs": [
        {
          "output_type": "stream",
          "name": "stdout",
          "text": [
            "<class 'pandas.core.frame.DataFrame'>\n",
            "RangeIndex: 700 entries, 0 to 699\n",
            "Data columns (total 11 columns):\n",
            " #   Column                      Non-Null Count  Dtype  \n",
            "---  ------                      --------------  -----  \n",
            " 0   User ID                     700 non-null    int64  \n",
            " 1   Device Model                700 non-null    object \n",
            " 2   Operating System            700 non-null    object \n",
            " 3   App Usage Time (min/day)    700 non-null    int64  \n",
            " 4   Screen On Time (hours/day)  700 non-null    float64\n",
            " 5   Battery Drain (mAh/day)     700 non-null    int64  \n",
            " 6   Number of Apps Installed    700 non-null    int64  \n",
            " 7   Data Usage (MB/day)         700 non-null    int64  \n",
            " 8   Age                         700 non-null    int64  \n",
            " 9   Gender                      700 non-null    object \n",
            " 10  User Behavior Class         700 non-null    int64  \n",
            "dtypes: float64(1), int64(7), object(3)\n",
            "memory usage: 60.3+ KB\n"
          ]
        }
      ]
    },
    {
      "cell_type": "markdown",
      "source": [
        "To divide the columns into continuous and discrete variables:\n",
        "\n",
        "####**Continuous Variables**\n",
        "\n",
        "These are numerical variables that can take an infinite number of values within a range:\n",
        "\n",
        "1.**App Usage Time (min/day)**\n",
        "\n",
        "2.**Screen On Time (hours/day)**\n",
        "\n",
        "3.**Battery Drain (mAh/day)**\n",
        "\n",
        "4.**Data Usage (MB/day)**\n",
        "\n",
        "\n",
        "####**Discrete Variables**\n",
        "\n",
        "These are numerical or categorical variables that have a finite set of distinct values:\n",
        "\n",
        "1.**User ID**\n",
        "\n",
        "2.**Device Model**\n",
        "\n",
        "3.**Operating System**\n",
        "\n",
        "4.**Number of Apps Installed**\n",
        "\n",
        "5.**Age**\n",
        "\n",
        "6.**Gender**\n",
        "\n",
        "7.**User Behavior Class**"
      ],
      "metadata": {
        "id": "eRzIKlRmEoS_"
      }
    },
    {
      "cell_type": "code",
      "source": [
        "data.head()\n",
        "\n",
        "#for overviewing the structure shows the first five rows"
      ],
      "metadata": {
        "colab": {
          "base_uri": "https://localhost:8080/",
          "height": 347
        },
        "id": "5Rf0ZirtFYpp",
        "outputId": "a1d99efa-7f63-43ce-836f-ca71979ef86c"
      },
      "execution_count": 4,
      "outputs": [
        {
          "output_type": "execute_result",
          "data": {
            "text/plain": [
              "   User ID    Device Model Operating System  App Usage Time (min/day)  \\\n",
              "0        1  Google Pixel 5          Android                       393   \n",
              "1        2       OnePlus 9          Android                       268   \n",
              "2        3    Xiaomi Mi 11          Android                       154   \n",
              "3        4  Google Pixel 5          Android                       239   \n",
              "4        5       iPhone 12              iOS                       187   \n",
              "\n",
              "   Screen On Time (hours/day)  Battery Drain (mAh/day)  \\\n",
              "0                         6.4                     1872   \n",
              "1                         4.7                     1331   \n",
              "2                         4.0                      761   \n",
              "3                         4.8                     1676   \n",
              "4                         4.3                     1367   \n",
              "\n",
              "   Number of Apps Installed  Data Usage (MB/day)  Age  Gender  \\\n",
              "0                        67                 1122   40    Male   \n",
              "1                        42                  944   47  Female   \n",
              "2                        32                  322   42    Male   \n",
              "3                        56                  871   20    Male   \n",
              "4                        58                  988   31  Female   \n",
              "\n",
              "   User Behavior Class  \n",
              "0                    4  \n",
              "1                    3  \n",
              "2                    2  \n",
              "3                    3  \n",
              "4                    3  "
            ],
            "text/html": [
              "\n",
              "  <div id=\"df-bc5ac11e-1323-4dfa-bdc2-9e62509de27d\" class=\"colab-df-container\">\n",
              "    <div>\n",
              "<style scoped>\n",
              "    .dataframe tbody tr th:only-of-type {\n",
              "        vertical-align: middle;\n",
              "    }\n",
              "\n",
              "    .dataframe tbody tr th {\n",
              "        vertical-align: top;\n",
              "    }\n",
              "\n",
              "    .dataframe thead th {\n",
              "        text-align: right;\n",
              "    }\n",
              "</style>\n",
              "<table border=\"1\" class=\"dataframe\">\n",
              "  <thead>\n",
              "    <tr style=\"text-align: right;\">\n",
              "      <th></th>\n",
              "      <th>User ID</th>\n",
              "      <th>Device Model</th>\n",
              "      <th>Operating System</th>\n",
              "      <th>App Usage Time (min/day)</th>\n",
              "      <th>Screen On Time (hours/day)</th>\n",
              "      <th>Battery Drain (mAh/day)</th>\n",
              "      <th>Number of Apps Installed</th>\n",
              "      <th>Data Usage (MB/day)</th>\n",
              "      <th>Age</th>\n",
              "      <th>Gender</th>\n",
              "      <th>User Behavior Class</th>\n",
              "    </tr>\n",
              "  </thead>\n",
              "  <tbody>\n",
              "    <tr>\n",
              "      <th>0</th>\n",
              "      <td>1</td>\n",
              "      <td>Google Pixel 5</td>\n",
              "      <td>Android</td>\n",
              "      <td>393</td>\n",
              "      <td>6.4</td>\n",
              "      <td>1872</td>\n",
              "      <td>67</td>\n",
              "      <td>1122</td>\n",
              "      <td>40</td>\n",
              "      <td>Male</td>\n",
              "      <td>4</td>\n",
              "    </tr>\n",
              "    <tr>\n",
              "      <th>1</th>\n",
              "      <td>2</td>\n",
              "      <td>OnePlus 9</td>\n",
              "      <td>Android</td>\n",
              "      <td>268</td>\n",
              "      <td>4.7</td>\n",
              "      <td>1331</td>\n",
              "      <td>42</td>\n",
              "      <td>944</td>\n",
              "      <td>47</td>\n",
              "      <td>Female</td>\n",
              "      <td>3</td>\n",
              "    </tr>\n",
              "    <tr>\n",
              "      <th>2</th>\n",
              "      <td>3</td>\n",
              "      <td>Xiaomi Mi 11</td>\n",
              "      <td>Android</td>\n",
              "      <td>154</td>\n",
              "      <td>4.0</td>\n",
              "      <td>761</td>\n",
              "      <td>32</td>\n",
              "      <td>322</td>\n",
              "      <td>42</td>\n",
              "      <td>Male</td>\n",
              "      <td>2</td>\n",
              "    </tr>\n",
              "    <tr>\n",
              "      <th>3</th>\n",
              "      <td>4</td>\n",
              "      <td>Google Pixel 5</td>\n",
              "      <td>Android</td>\n",
              "      <td>239</td>\n",
              "      <td>4.8</td>\n",
              "      <td>1676</td>\n",
              "      <td>56</td>\n",
              "      <td>871</td>\n",
              "      <td>20</td>\n",
              "      <td>Male</td>\n",
              "      <td>3</td>\n",
              "    </tr>\n",
              "    <tr>\n",
              "      <th>4</th>\n",
              "      <td>5</td>\n",
              "      <td>iPhone 12</td>\n",
              "      <td>iOS</td>\n",
              "      <td>187</td>\n",
              "      <td>4.3</td>\n",
              "      <td>1367</td>\n",
              "      <td>58</td>\n",
              "      <td>988</td>\n",
              "      <td>31</td>\n",
              "      <td>Female</td>\n",
              "      <td>3</td>\n",
              "    </tr>\n",
              "  </tbody>\n",
              "</table>\n",
              "</div>\n",
              "    <div class=\"colab-df-buttons\">\n",
              "\n",
              "  <div class=\"colab-df-container\">\n",
              "    <button class=\"colab-df-convert\" onclick=\"convertToInteractive('df-bc5ac11e-1323-4dfa-bdc2-9e62509de27d')\"\n",
              "            title=\"Convert this dataframe to an interactive table.\"\n",
              "            style=\"display:none;\">\n",
              "\n",
              "  <svg xmlns=\"http://www.w3.org/2000/svg\" height=\"24px\" viewBox=\"0 -960 960 960\">\n",
              "    <path d=\"M120-120v-720h720v720H120Zm60-500h600v-160H180v160Zm220 220h160v-160H400v160Zm0 220h160v-160H400v160ZM180-400h160v-160H180v160Zm440 0h160v-160H620v160ZM180-180h160v-160H180v160Zm440 0h160v-160H620v160Z\"/>\n",
              "  </svg>\n",
              "    </button>\n",
              "\n",
              "  <style>\n",
              "    .colab-df-container {\n",
              "      display:flex;\n",
              "      gap: 12px;\n",
              "    }\n",
              "\n",
              "    .colab-df-convert {\n",
              "      background-color: #E8F0FE;\n",
              "      border: none;\n",
              "      border-radius: 50%;\n",
              "      cursor: pointer;\n",
              "      display: none;\n",
              "      fill: #1967D2;\n",
              "      height: 32px;\n",
              "      padding: 0 0 0 0;\n",
              "      width: 32px;\n",
              "    }\n",
              "\n",
              "    .colab-df-convert:hover {\n",
              "      background-color: #E2EBFA;\n",
              "      box-shadow: 0px 1px 2px rgba(60, 64, 67, 0.3), 0px 1px 3px 1px rgba(60, 64, 67, 0.15);\n",
              "      fill: #174EA6;\n",
              "    }\n",
              "\n",
              "    .colab-df-buttons div {\n",
              "      margin-bottom: 4px;\n",
              "    }\n",
              "\n",
              "    [theme=dark] .colab-df-convert {\n",
              "      background-color: #3B4455;\n",
              "      fill: #D2E3FC;\n",
              "    }\n",
              "\n",
              "    [theme=dark] .colab-df-convert:hover {\n",
              "      background-color: #434B5C;\n",
              "      box-shadow: 0px 1px 3px 1px rgba(0, 0, 0, 0.15);\n",
              "      filter: drop-shadow(0px 1px 2px rgba(0, 0, 0, 0.3));\n",
              "      fill: #FFFFFF;\n",
              "    }\n",
              "  </style>\n",
              "\n",
              "    <script>\n",
              "      const buttonEl =\n",
              "        document.querySelector('#df-bc5ac11e-1323-4dfa-bdc2-9e62509de27d button.colab-df-convert');\n",
              "      buttonEl.style.display =\n",
              "        google.colab.kernel.accessAllowed ? 'block' : 'none';\n",
              "\n",
              "      async function convertToInteractive(key) {\n",
              "        const element = document.querySelector('#df-bc5ac11e-1323-4dfa-bdc2-9e62509de27d');\n",
              "        const dataTable =\n",
              "          await google.colab.kernel.invokeFunction('convertToInteractive',\n",
              "                                                    [key], {});\n",
              "        if (!dataTable) return;\n",
              "\n",
              "        const docLinkHtml = 'Like what you see? Visit the ' +\n",
              "          '<a target=\"_blank\" href=https://colab.research.google.com/notebooks/data_table.ipynb>data table notebook</a>'\n",
              "          + ' to learn more about interactive tables.';\n",
              "        element.innerHTML = '';\n",
              "        dataTable['output_type'] = 'display_data';\n",
              "        await google.colab.output.renderOutput(dataTable, element);\n",
              "        const docLink = document.createElement('div');\n",
              "        docLink.innerHTML = docLinkHtml;\n",
              "        element.appendChild(docLink);\n",
              "      }\n",
              "    </script>\n",
              "  </div>\n",
              "\n",
              "\n",
              "<div id=\"df-c8a49e63-ab73-4b3c-aa1b-ac81d35cada0\">\n",
              "  <button class=\"colab-df-quickchart\" onclick=\"quickchart('df-c8a49e63-ab73-4b3c-aa1b-ac81d35cada0')\"\n",
              "            title=\"Suggest charts\"\n",
              "            style=\"display:none;\">\n",
              "\n",
              "<svg xmlns=\"http://www.w3.org/2000/svg\" height=\"24px\"viewBox=\"0 0 24 24\"\n",
              "     width=\"24px\">\n",
              "    <g>\n",
              "        <path d=\"M19 3H5c-1.1 0-2 .9-2 2v14c0 1.1.9 2 2 2h14c1.1 0 2-.9 2-2V5c0-1.1-.9-2-2-2zM9 17H7v-7h2v7zm4 0h-2V7h2v10zm4 0h-2v-4h2v4z\"/>\n",
              "    </g>\n",
              "</svg>\n",
              "  </button>\n",
              "\n",
              "<style>\n",
              "  .colab-df-quickchart {\n",
              "      --bg-color: #E8F0FE;\n",
              "      --fill-color: #1967D2;\n",
              "      --hover-bg-color: #E2EBFA;\n",
              "      --hover-fill-color: #174EA6;\n",
              "      --disabled-fill-color: #AAA;\n",
              "      --disabled-bg-color: #DDD;\n",
              "  }\n",
              "\n",
              "  [theme=dark] .colab-df-quickchart {\n",
              "      --bg-color: #3B4455;\n",
              "      --fill-color: #D2E3FC;\n",
              "      --hover-bg-color: #434B5C;\n",
              "      --hover-fill-color: #FFFFFF;\n",
              "      --disabled-bg-color: #3B4455;\n",
              "      --disabled-fill-color: #666;\n",
              "  }\n",
              "\n",
              "  .colab-df-quickchart {\n",
              "    background-color: var(--bg-color);\n",
              "    border: none;\n",
              "    border-radius: 50%;\n",
              "    cursor: pointer;\n",
              "    display: none;\n",
              "    fill: var(--fill-color);\n",
              "    height: 32px;\n",
              "    padding: 0;\n",
              "    width: 32px;\n",
              "  }\n",
              "\n",
              "  .colab-df-quickchart:hover {\n",
              "    background-color: var(--hover-bg-color);\n",
              "    box-shadow: 0 1px 2px rgba(60, 64, 67, 0.3), 0 1px 3px 1px rgba(60, 64, 67, 0.15);\n",
              "    fill: var(--button-hover-fill-color);\n",
              "  }\n",
              "\n",
              "  .colab-df-quickchart-complete:disabled,\n",
              "  .colab-df-quickchart-complete:disabled:hover {\n",
              "    background-color: var(--disabled-bg-color);\n",
              "    fill: var(--disabled-fill-color);\n",
              "    box-shadow: none;\n",
              "  }\n",
              "\n",
              "  .colab-df-spinner {\n",
              "    border: 2px solid var(--fill-color);\n",
              "    border-color: transparent;\n",
              "    border-bottom-color: var(--fill-color);\n",
              "    animation:\n",
              "      spin 1s steps(1) infinite;\n",
              "  }\n",
              "\n",
              "  @keyframes spin {\n",
              "    0% {\n",
              "      border-color: transparent;\n",
              "      border-bottom-color: var(--fill-color);\n",
              "      border-left-color: var(--fill-color);\n",
              "    }\n",
              "    20% {\n",
              "      border-color: transparent;\n",
              "      border-left-color: var(--fill-color);\n",
              "      border-top-color: var(--fill-color);\n",
              "    }\n",
              "    30% {\n",
              "      border-color: transparent;\n",
              "      border-left-color: var(--fill-color);\n",
              "      border-top-color: var(--fill-color);\n",
              "      border-right-color: var(--fill-color);\n",
              "    }\n",
              "    40% {\n",
              "      border-color: transparent;\n",
              "      border-right-color: var(--fill-color);\n",
              "      border-top-color: var(--fill-color);\n",
              "    }\n",
              "    60% {\n",
              "      border-color: transparent;\n",
              "      border-right-color: var(--fill-color);\n",
              "    }\n",
              "    80% {\n",
              "      border-color: transparent;\n",
              "      border-right-color: var(--fill-color);\n",
              "      border-bottom-color: var(--fill-color);\n",
              "    }\n",
              "    90% {\n",
              "      border-color: transparent;\n",
              "      border-bottom-color: var(--fill-color);\n",
              "    }\n",
              "  }\n",
              "</style>\n",
              "\n",
              "  <script>\n",
              "    async function quickchart(key) {\n",
              "      const quickchartButtonEl =\n",
              "        document.querySelector('#' + key + ' button');\n",
              "      quickchartButtonEl.disabled = true;  // To prevent multiple clicks.\n",
              "      quickchartButtonEl.classList.add('colab-df-spinner');\n",
              "      try {\n",
              "        const charts = await google.colab.kernel.invokeFunction(\n",
              "            'suggestCharts', [key], {});\n",
              "      } catch (error) {\n",
              "        console.error('Error during call to suggestCharts:', error);\n",
              "      }\n",
              "      quickchartButtonEl.classList.remove('colab-df-spinner');\n",
              "      quickchartButtonEl.classList.add('colab-df-quickchart-complete');\n",
              "    }\n",
              "    (() => {\n",
              "      let quickchartButtonEl =\n",
              "        document.querySelector('#df-c8a49e63-ab73-4b3c-aa1b-ac81d35cada0 button');\n",
              "      quickchartButtonEl.style.display =\n",
              "        google.colab.kernel.accessAllowed ? 'block' : 'none';\n",
              "    })();\n",
              "  </script>\n",
              "</div>\n",
              "\n",
              "    </div>\n",
              "  </div>\n"
            ],
            "application/vnd.google.colaboratory.intrinsic+json": {
              "type": "dataframe",
              "summary": "{\n  \"name\": \"#for overviewing the structure shows the first five rows\",\n  \"rows\": 5,\n  \"fields\": [\n    {\n      \"column\": \"User ID\",\n      \"properties\": {\n        \"dtype\": \"number\",\n        \"std\": 1,\n        \"min\": 1,\n        \"max\": 5,\n        \"num_unique_values\": 5,\n        \"samples\": [\n          2,\n          5,\n          3\n        ],\n        \"semantic_type\": \"\",\n        \"description\": \"\"\n      }\n    },\n    {\n      \"column\": \"Device Model\",\n      \"properties\": {\n        \"dtype\": \"string\",\n        \"num_unique_values\": 4,\n        \"samples\": [\n          \"OnePlus 9\",\n          \"iPhone 12\",\n          \"Google Pixel 5\"\n        ],\n        \"semantic_type\": \"\",\n        \"description\": \"\"\n      }\n    },\n    {\n      \"column\": \"Operating System\",\n      \"properties\": {\n        \"dtype\": \"category\",\n        \"num_unique_values\": 2,\n        \"samples\": [\n          \"iOS\",\n          \"Android\"\n        ],\n        \"semantic_type\": \"\",\n        \"description\": \"\"\n      }\n    },\n    {\n      \"column\": \"App Usage Time (min/day)\",\n      \"properties\": {\n        \"dtype\": \"number\",\n        \"std\": 92,\n        \"min\": 154,\n        \"max\": 393,\n        \"num_unique_values\": 5,\n        \"samples\": [\n          268,\n          187\n        ],\n        \"semantic_type\": \"\",\n        \"description\": \"\"\n      }\n    },\n    {\n      \"column\": \"Screen On Time (hours/day)\",\n      \"properties\": {\n        \"dtype\": \"number\",\n        \"std\": 0.9289779329994876,\n        \"min\": 4.0,\n        \"max\": 6.4,\n        \"num_unique_values\": 5,\n        \"samples\": [\n          4.7,\n          4.3\n        ],\n        \"semantic_type\": \"\",\n        \"description\": \"\"\n      }\n    },\n    {\n      \"column\": \"Battery Drain (mAh/day)\",\n      \"properties\": {\n        \"dtype\": \"number\",\n        \"std\": 422,\n        \"min\": 761,\n        \"max\": 1872,\n        \"num_unique_values\": 5,\n        \"samples\": [\n          1331,\n          1367\n        ],\n        \"semantic_type\": \"\",\n        \"description\": \"\"\n      }\n    },\n    {\n      \"column\": \"Number of Apps Installed\",\n      \"properties\": {\n        \"dtype\": \"number\",\n        \"std\": 13,\n        \"min\": 32,\n        \"max\": 67,\n        \"num_unique_values\": 5,\n        \"samples\": [\n          42,\n          58\n        ],\n        \"semantic_type\": \"\",\n        \"description\": \"\"\n      }\n    },\n    {\n      \"column\": \"Data Usage (MB/day)\",\n      \"properties\": {\n        \"dtype\": \"number\",\n        \"std\": 308,\n        \"min\": 322,\n        \"max\": 1122,\n        \"num_unique_values\": 5,\n        \"samples\": [\n          944,\n          988\n        ],\n        \"semantic_type\": \"\",\n        \"description\": \"\"\n      }\n    },\n    {\n      \"column\": \"Age\",\n      \"properties\": {\n        \"dtype\": \"number\",\n        \"std\": 10,\n        \"min\": 20,\n        \"max\": 47,\n        \"num_unique_values\": 5,\n        \"samples\": [\n          47,\n          31\n        ],\n        \"semantic_type\": \"\",\n        \"description\": \"\"\n      }\n    },\n    {\n      \"column\": \"Gender\",\n      \"properties\": {\n        \"dtype\": \"category\",\n        \"num_unique_values\": 2,\n        \"samples\": [\n          \"Female\",\n          \"Male\"\n        ],\n        \"semantic_type\": \"\",\n        \"description\": \"\"\n      }\n    },\n    {\n      \"column\": \"User Behavior Class\",\n      \"properties\": {\n        \"dtype\": \"number\",\n        \"std\": 0,\n        \"min\": 2,\n        \"max\": 4,\n        \"num_unique_values\": 3,\n        \"samples\": [\n          4,\n          3\n        ],\n        \"semantic_type\": \"\",\n        \"description\": \"\"\n      }\n    }\n  ]\n}"
            }
          },
          "metadata": {},
          "execution_count": 4
        }
      ]
    },
    {
      "cell_type": "markdown",
      "source": [
        "##*3.Data Cleaning*"
      ],
      "metadata": {
        "id": "uzQeRpEEgNK_"
      }
    },
    {
      "cell_type": "markdown",
      "source": [
        "###Check ant treat missing values"
      ],
      "metadata": {
        "id": "dJnGgoU6YbZs"
      }
    },
    {
      "cell_type": "code",
      "source": [
        "data.isnull().sum()\n"
      ],
      "metadata": {
        "colab": {
          "base_uri": "https://localhost:8080/"
        },
        "id": "SSfJjcImYtcC",
        "outputId": "b3216cd2-f59b-492e-ecb4-acfa9a7df36c"
      },
      "execution_count": null,
      "outputs": [
        {
          "output_type": "execute_result",
          "data": {
            "text/plain": [
              "User ID                       0\n",
              "Device Model                  0\n",
              "Operating System              0\n",
              "App Usage Time (min/day)      0\n",
              "Screen On Time (hours/day)    0\n",
              "Battery Drain (mAh/day)       0\n",
              "Number of Apps Installed      0\n",
              "Data Usage (MB/day)           0\n",
              "Age                           0\n",
              "Gender                        0\n",
              "User Behavior Class           0\n",
              "dtype: int64"
            ],
            "text/html": [
              "<div>\n",
              "<style scoped>\n",
              "    .dataframe tbody tr th:only-of-type {\n",
              "        vertical-align: middle;\n",
              "    }\n",
              "\n",
              "    .dataframe tbody tr th {\n",
              "        vertical-align: top;\n",
              "    }\n",
              "\n",
              "    .dataframe thead th {\n",
              "        text-align: right;\n",
              "    }\n",
              "</style>\n",
              "<table border=\"1\" class=\"dataframe\">\n",
              "  <thead>\n",
              "    <tr style=\"text-align: right;\">\n",
              "      <th></th>\n",
              "      <th>0</th>\n",
              "    </tr>\n",
              "  </thead>\n",
              "  <tbody>\n",
              "    <tr>\n",
              "      <th>User ID</th>\n",
              "      <td>0</td>\n",
              "    </tr>\n",
              "    <tr>\n",
              "      <th>Device Model</th>\n",
              "      <td>0</td>\n",
              "    </tr>\n",
              "    <tr>\n",
              "      <th>Operating System</th>\n",
              "      <td>0</td>\n",
              "    </tr>\n",
              "    <tr>\n",
              "      <th>App Usage Time (min/day)</th>\n",
              "      <td>0</td>\n",
              "    </tr>\n",
              "    <tr>\n",
              "      <th>Screen On Time (hours/day)</th>\n",
              "      <td>0</td>\n",
              "    </tr>\n",
              "    <tr>\n",
              "      <th>Battery Drain (mAh/day)</th>\n",
              "      <td>0</td>\n",
              "    </tr>\n",
              "    <tr>\n",
              "      <th>Number of Apps Installed</th>\n",
              "      <td>0</td>\n",
              "    </tr>\n",
              "    <tr>\n",
              "      <th>Data Usage (MB/day)</th>\n",
              "      <td>0</td>\n",
              "    </tr>\n",
              "    <tr>\n",
              "      <th>Age</th>\n",
              "      <td>0</td>\n",
              "    </tr>\n",
              "    <tr>\n",
              "      <th>Gender</th>\n",
              "      <td>0</td>\n",
              "    </tr>\n",
              "    <tr>\n",
              "      <th>User Behavior Class</th>\n",
              "      <td>0</td>\n",
              "    </tr>\n",
              "  </tbody>\n",
              "</table>\n",
              "</div><br><label><b>dtype:</b> int64</label>"
            ]
          },
          "metadata": {},
          "execution_count": 118
        }
      ]
    },
    {
      "cell_type": "markdown",
      "source": [
        "**Here they are no missing values we can explore the data easily and efficiently**"
      ],
      "metadata": {
        "id": "QdaTCBwFYyJr"
      }
    },
    {
      "cell_type": "markdown",
      "source": [
        "##*4.Data visualization*"
      ],
      "metadata": {
        "id": "zY67k5vVhEnT"
      }
    },
    {
      "cell_type": "markdown",
      "source": [
        "####Bar plot"
      ],
      "metadata": {
        "id": "2HgFVCZ3op_6"
      }
    },
    {
      "cell_type": "code",
      "source": [
        "data.info()"
      ],
      "metadata": {
        "colab": {
          "base_uri": "https://localhost:8080/"
        },
        "id": "4W57LDsLpZhl",
        "outputId": "18a87cd4-6d91-45fa-cfee-992dc4f423d6"
      },
      "execution_count": 5,
      "outputs": [
        {
          "output_type": "stream",
          "name": "stdout",
          "text": [
            "<class 'pandas.core.frame.DataFrame'>\n",
            "RangeIndex: 700 entries, 0 to 699\n",
            "Data columns (total 11 columns):\n",
            " #   Column                      Non-Null Count  Dtype  \n",
            "---  ------                      --------------  -----  \n",
            " 0   User ID                     700 non-null    int64  \n",
            " 1   Device Model                700 non-null    object \n",
            " 2   Operating System            700 non-null    object \n",
            " 3   App Usage Time (min/day)    700 non-null    int64  \n",
            " 4   Screen On Time (hours/day)  700 non-null    float64\n",
            " 5   Battery Drain (mAh/day)     700 non-null    int64  \n",
            " 6   Number of Apps Installed    700 non-null    int64  \n",
            " 7   Data Usage (MB/day)         700 non-null    int64  \n",
            " 8   Age                         700 non-null    int64  \n",
            " 9   Gender                      700 non-null    object \n",
            " 10  User Behavior Class         700 non-null    int64  \n",
            "dtypes: float64(1), int64(7), object(3)\n",
            "memory usage: 60.3+ KB\n"
          ]
        }
      ]
    },
    {
      "cell_type": "code",
      "source": [
        "sample=data.sample(100)"
      ],
      "metadata": {
        "id": "omjIHAxLOOkE"
      },
      "execution_count": 6,
      "outputs": []
    },
    {
      "cell_type": "code",
      "source": [
        "data.columns"
      ],
      "metadata": {
        "colab": {
          "base_uri": "https://localhost:8080/"
        },
        "id": "g4FWeNG4Owaf",
        "outputId": "b4c6048c-1aae-4c64-d7a2-503b9e00f711"
      },
      "execution_count": 8,
      "outputs": [
        {
          "output_type": "execute_result",
          "data": {
            "text/plain": [
              "Index(['User ID', 'Device Model', 'Operating System',\n",
              "       'App Usage Time (min/day)', 'Screen On Time (hours/day)',\n",
              "       'Battery Drain (mAh/day)', 'Number of Apps Installed',\n",
              "       'Data Usage (MB/day)', 'Age', 'Gender', 'User Behavior Class'],\n",
              "      dtype='object')"
            ]
          },
          "metadata": {},
          "execution_count": 8
        }
      ]
    },
    {
      "cell_type": "code",
      "source": [
        "#it is +ve correaltional\n",
        "x=sample['Screen On Time (hours/day)']\n",
        "y=sample['App Usage Time (min/day)']\n",
        "plt.figure(figsize=(10, 6))\n",
        "plt.bar(x,y)\n",
        "plt.xlabel('Device Model')\n",
        "plt.ylabel('App Usage Time (min/day)')"
      ],
      "metadata": {
        "colab": {
          "base_uri": "https://localhost:8080/",
          "height": 559
        },
        "id": "vnOSU_5-OoOI",
        "outputId": "a212b48a-6785-4f9a-f836-c67649d0bd44"
      },
      "execution_count": 18,
      "outputs": [
        {
          "output_type": "execute_result",
          "data": {
            "text/plain": [
              "Text(0, 0.5, 'App Usage Time (min/day)')"
            ]
          },
          "metadata": {},
          "execution_count": 18
        },
        {
          "output_type": "display_data",
          "data": {
            "text/plain": [
              "<Figure size 1000x600 with 1 Axes>"
            ],
            "image/png": "[encoded data removed]"
          },
          "metadata": {}
        }
      ]
    },
    {
      "cell_type": "code",
      "source": [
        "# ios device is only iphone , and android os is other brands\n",
        "x=sample['Device Model']\n",
        "y=sample['Operating System']\n",
        "plt.figure(figsize=(10, 6))\n",
        "plt.scatter(x,y)\n",
        "plt.xlabel('Device Model')\n",
        "plt.ylabel('App Usage Time (min/day)')"
      ],
      "metadata": {
        "colab": {
          "base_uri": "https://localhost:8080/",
          "height": 579
        },
        "id": "plGmcOBQQe6l",
        "outputId": "5aba7058-28f8-4ab5-b9df-7362c9b66f95"
      },
      "execution_count": 16,
      "outputs": [
        {
          "output_type": "execute_result",
          "data": {
            "text/plain": [
              "Text(0, 0.5, 'App Usage Time (min/day)')"
            ]
          },
          "metadata": {},
          "execution_count": 16
        },
        {
          "output_type": "display_data",
          "data": {
            "text/plain": [
              "<Figure size 1000x600 with 1 Axes>"
            ],
            "image/png": "[encoded data removed]"
          },
          "metadata": {}
        }
      ]
    },
    {
      "cell_type": "code",
      "source": [
        "#+ve correlation\n",
        "x=sample['App Usage Time (min/day)']\n",
        "y=sample['Screen On Time (hours/day)']\n",
        "plt.figure(figsize=(10, 6))\n",
        "plt.bar(x,y)\n",
        "plt.xlabel('App Usage Time (min/day)')\n",
        "plt.ylabel('Screen On Time (hours/day)')"
      ],
      "metadata": {
        "colab": {
          "base_uri": "https://localhost:8080/",
          "height": 559
        },
        "id": "makD4fWT0VRR",
        "outputId": "275e606b-af84-4e57-dba8-5412911a4c65"
      },
      "execution_count": 23,
      "outputs": [
        {
          "output_type": "execute_result",
          "data": {
            "text/plain": [
              "Text(0, 0.5, 'Screen On Time (hours/day)')"
            ]
          },
          "metadata": {},
          "execution_count": 23
        },
        {
          "output_type": "display_data",
          "data": {
            "text/plain": [
              "<Figure size 1000x600 with 1 Axes>"
            ],
            "image/png": "[encoded data removed]"
          },
          "metadata": {}
        }
      ]
    },
    {
      "cell_type": "code",
      "source": [
        "# number of apps Installed vs Data usage (MB/day)\n",
        "#+ve correlation\n",
        "x=sample['Number of Apps Installed']\n",
        "y=sample['Data Usage (MB/day)']\n",
        "plt.figure(figsize=(10, 6))\n",
        "plt.bar(x,y,color='red')\n",
        "plt.xlabel('Number of Apps Installed')\n",
        "plt.ylabel('Data Usage (MB/day)')"
      ],
      "metadata": {
        "colab": {
          "base_uri": "https://localhost:8080/",
          "height": 558
        },
        "id": "UwhYAtbXsnJM",
        "outputId": "1e5c5ad7-c2f1-4c56-8df0-6e1cc562d69d"
      },
      "execution_count": 24,
      "outputs": [
        {
          "output_type": "execute_result",
          "data": {
            "text/plain": [
              "Text(0, 0.5, 'Data Usage (MB/day)')"
            ]
          },
          "metadata": {},
          "execution_count": 24
        },
        {
          "output_type": "display_data",
          "data": {
            "text/plain": [
              "<Figure size 1000x600 with 1 Axes>"
            ],
            "image/png": "[encoded data removed]"
          },
          "metadata": {}
        }
      ]
    },
    {
      "cell_type": "code",
      "source": [
        "#+ve correlation\n",
        "x=sample['Battery Drain (mAh/day)']\n",
        "y=sample['Screen On Time (hours/day)']\n",
        "plt.figure(figsize=(10, 6))\n",
        "plt.bar(x,y,color='green')\n",
        "plt.xlabel('Age')\n",
        "plt.ylabel('User Behavior Class')"
      ],
      "metadata": {
        "colab": {
          "base_uri": "https://localhost:8080/",
          "height": 559
        },
        "id": "DEUU6-mq6AzJ",
        "outputId": "e12d9029-5e65-4cf4-fe59-3c5464819fc1"
      },
      "execution_count": 26,
      "outputs": [
        {
          "output_type": "execute_result",
          "data": {
            "text/plain": [
              "Text(0, 0.5, 'User Behavior Class')"
            ]
          },
          "metadata": {},
          "execution_count": 26
        },
        {
          "output_type": "display_data",
          "data": {
            "text/plain": [
              "<Figure size 1000x600 with 1 Axes>"
            ],
            "image/png": "[encoded data removed]"
          },
          "metadata": {}
        }
      ]
    },
    {
      "cell_type": "markdown",
      "source": [
        "###To find the correlation between two columns or more we use **heat maps**"
      ],
      "metadata": {
        "id": "Nj2buTTEY-qq"
      }
    },
    {
      "cell_type": "markdown",
      "source": [
        "####Heatmaps"
      ],
      "metadata": {
        "id": "nTIzrU2XXsgq"
      }
    },
    {
      "cell_type": "code",
      "source": [
        "x= pd.crosstab(data['Device Model'], data['Gender'])\n",
        "\n",
        "data['App Usage Category'] = pd.cut(data['App Usage Time (min/day)'], bins=4, labels=['Low', 'Medium', 'High', 'Very High'])\n",
        "data['Screen On Time Category'] = pd.cut(data['Screen On Time (hours/day)'], bins=4, labels=['Low', 'Medium', 'High', 'Very High'])\n",
        "\n",
        "y = pd.crosstab(data['App Usage Category'], data['Screen On Time Category'])\n",
        "plt.figure(figsize=(12, 5))\n",
        "\n",
        "# Subplot 1: Heatmap Gender vs. Device Model\n",
        "plt.subplot(1, 2, 1)\n",
        "sns.heatmap(x, annot=True, cmap='Blues', fmt='d')\n",
        "plt.title('Heatmap Gender vs. Device Model')\n",
        "plt.ylabel('Device Model')\n",
        "plt.xlabel('Gender')\n",
        "\n",
        "# Subplot 2: Heatmap App Usage vs. Screen On Time\n",
        "plt.subplot(1, 2, 2)\n",
        "sns.heatmap(y, annot=True, cmap='Greens', fmt='d')\n",
        "plt.title('Heatmap App Usage vs. Screen On Time')\n",
        "plt.ylabel('App Usage Category')\n",
        "plt.xlabel('Screen On Time Category')\n",
        "\n",
        "plt.tight_layout()\n",
        "\n",
        "plt.show()"
      ],
      "metadata": {
        "colab": {
          "base_uri": "https://localhost:8080/",
          "height": 374
        },
        "id": "7j8-7XKwXrH4",
        "outputId": "0dcdf0d9-428b-4376-9338-148580be6270"
      },
      "execution_count": null,
      "outputs": [
        {
          "output_type": "display_data",
          "data": {
            "text/plain": [
              "<Figure size 1200x500 with 4 Axes>"
            ],
            "image/png": "[encoded data removed]"
          },
          "metadata": {}
        }
      ]
    },
    {
      "cell_type": "markdown",
      "source": [
        "##*5.Descriptive Statistics*"
      ],
      "metadata": {
        "id": "JD5eah0Ki2SK"
      }
    },
    {
      "cell_type": "markdown",
      "source": [
        "### Statistical Data analysis"
      ],
      "metadata": {
        "id": "lxi73abMdPDQ"
      }
    },
    {
      "cell_type": "code",
      "source": [
        "data.drop('User ID', axis=1, inplace=True)\n",
        "data.describe()"
      ],
      "metadata": {
        "colab": {
          "base_uri": "https://localhost:8080/"
        },
        "id": "zVjyfsFwdlX5",
        "outputId": "b95ce536-c7ec-4df4-cd02-3bf62a17d3b1"
      },
      "execution_count": null,
      "outputs": [
        {
          "output_type": "execute_result",
          "data": {
            "text/plain": [
              "       App Usage Time (min/day)  Screen On Time (hours/day)  \\\n",
              "count                700.000000                  700.000000   \n",
              "mean                 271.128571                    5.272714   \n",
              "std                  177.199484                    3.068584   \n",
              "min                   30.000000                    1.000000   \n",
              "25%                  113.250000                    2.500000   \n",
              "50%                  227.500000                    4.900000   \n",
              "75%                  434.250000                    7.400000   \n",
              "max                  598.000000                   12.000000   \n",
              "\n",
              "       Battery Drain (mAh/day)  Number of Apps Installed  Data Usage (MB/day)  \\\n",
              "count               700.000000                700.000000           700.000000   \n",
              "mean               1525.158571                 50.681429           929.742857   \n",
              "std                 819.136414                 26.943324           640.451729   \n",
              "min                 302.000000                 10.000000           102.000000   \n",
              "25%                 722.250000                 26.000000           373.000000   \n",
              "50%                1502.500000                 49.000000           823.500000   \n",
              "75%                2229.500000                 74.000000          1341.000000   \n",
              "max                2993.000000                 99.000000          2497.000000   \n",
              "\n",
              "              Age  User Behavior Class  \n",
              "count  700.000000           700.000000  \n",
              "mean    38.482857             2.990000  \n",
              "std     12.012916             1.401476  \n",
              "min     18.000000             1.000000  \n",
              "25%     28.000000             2.000000  \n",
              "50%     38.000000             3.000000  \n",
              "75%     49.000000             4.000000  \n",
              "max     59.000000             5.000000  "
            ],
            "text/html": [
              "\n",
              "  <div id=\"df-47fafeb1-dda1-40a6-aad5-0470e1f10280\" class=\"colab-df-container\">\n",
              "    <div>\n",
              "<style scoped>\n",
              "    .dataframe tbody tr th:only-of-type {\n",
              "        vertical-align: middle;\n",
              "    }\n",
              "\n",
              "    .dataframe tbody tr th {\n",
              "        vertical-align: top;\n",
              "    }\n",
              "\n",
              "    .dataframe thead th {\n",
              "        text-align: right;\n",
              "    }\n",
              "</style>\n",
              "<table border=\"1\" class=\"dataframe\">\n",
              "  <thead>\n",
              "    <tr style=\"text-align: right;\">\n",
              "      <th></th>\n",
              "      <th>App Usage Time (min/day)</th>\n",
              "      <th>Screen On Time (hours/day)</th>\n",
              "      <th>Battery Drain (mAh/day)</th>\n",
              "      <th>Number of Apps Installed</th>\n",
              "      <th>Data Usage (MB/day)</th>\n",
              "      <th>Age</th>\n",
              "      <th>User Behavior Class</th>\n",
              "    </tr>\n",
              "  </thead>\n",
              "  <tbody>\n",
              "    <tr>\n",
              "      <th>count</th>\n",
              "      <td>700.000000</td>\n",
              "      <td>700.000000</td>\n",
              "      <td>700.000000</td>\n",
              "      <td>700.000000</td>\n",
              "      <td>700.000000</td>\n",
              "      <td>700.000000</td>\n",
              "      <td>700.000000</td>\n",
              "    </tr>\n",
              "    <tr>\n",
              "      <th>mean</th>\n",
              "      <td>271.128571</td>\n",
              "      <td>5.272714</td>\n",
              "      <td>1525.158571</td>\n",
              "      <td>50.681429</td>\n",
              "      <td>929.742857</td>\n",
              "      <td>38.482857</td>\n",
              "      <td>2.990000</td>\n",
              "    </tr>\n",
              "    <tr>\n",
              "      <th>std</th>\n",
              "      <td>177.199484</td>\n",
              "      <td>3.068584</td>\n",
              "      <td>819.136414</td>\n",
              "      <td>26.943324</td>\n",
              "      <td>640.451729</td>\n",
              "      <td>12.012916</td>\n",
              "      <td>1.401476</td>\n",
              "    </tr>\n",
              "    <tr>\n",
              "      <th>min</th>\n",
              "      <td>30.000000</td>\n",
              "      <td>1.000000</td>\n",
              "      <td>302.000000</td>\n",
              "      <td>10.000000</td>\n",
              "      <td>102.000000</td>\n",
              "      <td>18.000000</td>\n",
              "      <td>1.000000</td>\n",
              "    </tr>\n",
              "    <tr>\n",
              "      <th>25%</th>\n",
              "      <td>113.250000</td>\n",
              "      <td>2.500000</td>\n",
              "      <td>722.250000</td>\n",
              "      <td>26.000000</td>\n",
              "      <td>373.000000</td>\n",
              "      <td>28.000000</td>\n",
              "      <td>2.000000</td>\n",
              "    </tr>\n",
              "    <tr>\n",
              "      <th>50%</th>\n",
              "      <td>227.500000</td>\n",
              "      <td>4.900000</td>\n",
              "      <td>1502.500000</td>\n",
              "      <td>49.000000</td>\n",
              "      <td>823.500000</td>\n",
              "      <td>38.000000</td>\n",
              "      <td>3.000000</td>\n",
              "    </tr>\n",
              "    <tr>\n",
              "      <th>75%</th>\n",
              "      <td>434.250000</td>\n",
              "      <td>7.400000</td>\n",
              "      <td>2229.500000</td>\n",
              "      <td>74.000000</td>\n",
              "      <td>1341.000000</td>\n",
              "      <td>49.000000</td>\n",
              "      <td>4.000000</td>\n",
              "    </tr>\n",
              "    <tr>\n",
              "      <th>max</th>\n",
              "      <td>598.000000</td>\n",
              "      <td>12.000000</td>\n",
              "      <td>2993.000000</td>\n",
              "      <td>99.000000</td>\n",
              "      <td>2497.000000</td>\n",
              "      <td>59.000000</td>\n",
              "      <td>5.000000</td>\n",
              "    </tr>\n",
              "  </tbody>\n",
              "</table>\n",
              "</div>\n",
              "    <div class=\"colab-df-buttons\">\n",
              "\n",
              "  <div class=\"colab-df-container\">\n",
              "    <button class=\"colab-df-convert\" onclick=\"convertToInteractive('df-47fafeb1-dda1-40a6-aad5-0470e1f10280')\"\n",
              "            title=\"Convert this dataframe to an interactive table.\"\n",
              "            style=\"display:none;\">\n",
              "\n",
              "  <svg xmlns=\"http://www.w3.org/2000/svg\" height=\"24px\" viewBox=\"0 -960 960 960\">\n",
              "    <path d=\"M120-120v-720h720v720H120Zm60-500h600v-160H180v160Zm220 220h160v-160H400v160Zm0 220h160v-160H400v160ZM180-400h160v-160H180v160Zm440 0h160v-160H620v160ZM180-180h160v-160H180v160Zm440 0h160v-160H620v160Z\"/>\n",
              "  </svg>\n",
              "    </button>\n",
              "\n",
              "  <style>\n",
              "    .colab-df-container {\n",
              "      display:flex;\n",
              "      gap: 12px;\n",
              "    }\n",
              "\n",
              "    .colab-df-convert {\n",
              "      background-color: #E8F0FE;\n",
              "      border: none;\n",
              "      border-radius: 50%;\n",
              "      cursor: pointer;\n",
              "      display: none;\n",
              "      fill: #1967D2;\n",
              "      height: 32px;\n",
              "      padding: 0 0 0 0;\n",
              "      width: 32px;\n",
              "    }\n",
              "\n",
              "    .colab-df-convert:hover {\n",
              "      background-color: #E2EBFA;\n",
              "      box-shadow: 0px 1px 2px rgba(60, 64, 67, 0.3), 0px 1px 3px 1px rgba(60, 64, 67, 0.15);\n",
              "      fill: #174EA6;\n",
              "    }\n",
              "\n",
              "    .colab-df-buttons div {\n",
              "      margin-bottom: 4px;\n",
              "    }\n",
              "\n",
              "    [theme=dark] .colab-df-convert {\n",
              "      background-color: #3B4455;\n",
              "      fill: #D2E3FC;\n",
              "    }\n",
              "\n",
              "    [theme=dark] .colab-df-convert:hover {\n",
              "      background-color: #434B5C;\n",
              "      box-shadow: 0px 1px 3px 1px rgba(0, 0, 0, 0.15);\n",
              "      filter: drop-shadow(0px 1px 2px rgba(0, 0, 0, 0.3));\n",
              "      fill: #FFFFFF;\n",
              "    }\n",
              "  </style>\n",
              "\n",
              "    <script>\n",
              "      const buttonEl =\n",
              "        document.querySelector('#df-47fafeb1-dda1-40a6-aad5-0470e1f10280 button.colab-df-convert');\n",
              "      buttonEl.style.display =\n",
              "        google.colab.kernel.accessAllowed ? 'block' : 'none';\n",
              "\n",
              "      async function convertToInteractive(key) {\n",
              "        const element = document.querySelector('#df-47fafeb1-dda1-40a6-aad5-0470e1f10280');\n",
              "        const dataTable =\n",
              "          await google.colab.kernel.invokeFunction('convertToInteractive',\n",
              "                                                    [key], {});\n",
              "        if (!dataTable) return;\n",
              "\n",
              "        const docLinkHtml = 'Like what you see? Visit the ' +\n",
              "          '<a target=\"_blank\" href=https://colab.research.google.com/notebooks/data_table.ipynb>data table notebook</a>'\n",
              "          + ' to learn more about interactive tables.';\n",
              "        element.innerHTML = '';\n",
              "        dataTable['output_type'] = 'display_data';\n",
              "        await google.colab.output.renderOutput(dataTable, element);\n",
              "        const docLink = document.createElement('div');\n",
              "        docLink.innerHTML = docLinkHtml;\n",
              "        element.appendChild(docLink);\n",
              "      }\n",
              "    </script>\n",
              "  </div>\n",
              "\n",
              "\n",
              "<div id=\"df-003b8f08-c7a8-442a-bc89-e273de7920e7\">\n",
              "  <button class=\"colab-df-quickchart\" onclick=\"quickchart('df-003b8f08-c7a8-442a-bc89-e273de7920e7')\"\n",
              "            title=\"Suggest charts\"\n",
              "            style=\"display:none;\">\n",
              "\n",
              "<svg xmlns=\"http://www.w3.org/2000/svg\" height=\"24px\"viewBox=\"0 0 24 24\"\n",
              "     width=\"24px\">\n",
              "    <g>\n",
              "        <path d=\"M19 3H5c-1.1 0-2 .9-2 2v14c0 1.1.9 2 2 2h14c1.1 0 2-.9 2-2V5c0-1.1-.9-2-2-2zM9 17H7v-7h2v7zm4 0h-2V7h2v10zm4 0h-2v-4h2v4z\"/>\n",
              "    </g>\n",
              "</svg>\n",
              "  </button>\n",
              "\n",
              "<style>\n",
              "  .colab-df-quickchart {\n",
              "      --bg-color: #E8F0FE;\n",
              "      --fill-color: #1967D2;\n",
              "      --hover-bg-color: #E2EBFA;\n",
              "      --hover-fill-color: #174EA6;\n",
              "      --disabled-fill-color: #AAA;\n",
              "      --disabled-bg-color: #DDD;\n",
              "  }\n",
              "\n",
              "  [theme=dark] .colab-df-quickchart {\n",
              "      --bg-color: #3B4455;\n",
              "      --fill-color: #D2E3FC;\n",
              "      --hover-bg-color: #434B5C;\n",
              "      --hover-fill-color: #FFFFFF;\n",
              "      --disabled-bg-color: #3B4455;\n",
              "      --disabled-fill-color: #666;\n",
              "  }\n",
              "\n",
              "  .colab-df-quickchart {\n",
              "    background-color: var(--bg-color);\n",
              "    border: none;\n",
              "    border-radius: 50%;\n",
              "    cursor: pointer;\n",
              "    display: none;\n",
              "    fill: var(--fill-color);\n",
              "    height: 32px;\n",
              "    padding: 0;\n",
              "    width: 32px;\n",
              "  }\n",
              "\n",
              "  .colab-df-quickchart:hover {\n",
              "    background-color: var(--hover-bg-color);\n",
              "    box-shadow: 0 1px 2px rgba(60, 64, 67, 0.3), 0 1px 3px 1px rgba(60, 64, 67, 0.15);\n",
              "    fill: var(--button-hover-fill-color);\n",
              "  }\n",
              "\n",
              "  .colab-df-quickchart-complete:disabled,\n",
              "  .colab-df-quickchart-complete:disabled:hover {\n",
              "    background-color: var(--disabled-bg-color);\n",
              "    fill: var(--disabled-fill-color);\n",
              "    box-shadow: none;\n",
              "  }\n",
              "\n",
              "  .colab-df-spinner {\n",
              "    border: 2px solid var(--fill-color);\n",
              "    border-color: transparent;\n",
              "    border-bottom-color: var(--fill-color);\n",
              "    animation:\n",
              "      spin 1s steps(1) infinite;\n",
              "  }\n",
              "\n",
              "  @keyframes spin {\n",
              "    0% {\n",
              "      border-color: transparent;\n",
              "      border-bottom-color: var(--fill-color);\n",
              "      border-left-color: var(--fill-color);\n",
              "    }\n",
              "    20% {\n",
              "      border-color: transparent;\n",
              "      border-left-color: var(--fill-color);\n",
              "      border-top-color: var(--fill-color);\n",
              "    }\n",
              "    30% {\n",
              "      border-color: transparent;\n",
              "      border-left-color: var(--fill-color);\n",
              "      border-top-color: var(--fill-color);\n",
              "      border-right-color: var(--fill-color);\n",
              "    }\n",
              "    40% {\n",
              "      border-color: transparent;\n",
              "      border-right-color: var(--fill-color);\n",
              "      border-top-color: var(--fill-color);\n",
              "    }\n",
              "    60% {\n",
              "      border-color: transparent;\n",
              "      border-right-color: var(--fill-color);\n",
              "    }\n",
              "    80% {\n",
              "      border-color: transparent;\n",
              "      border-right-color: var(--fill-color);\n",
              "      border-bottom-color: var(--fill-color);\n",
              "    }\n",
              "    90% {\n",
              "      border-color: transparent;\n",
              "      border-bottom-color: var(--fill-color);\n",
              "    }\n",
              "  }\n",
              "</style>\n",
              "\n",
              "  <script>\n",
              "    async function quickchart(key) {\n",
              "      const quickchartButtonEl =\n",
              "        document.querySelector('#' + key + ' button');\n",
              "      quickchartButtonEl.disabled = true;  // To prevent multiple clicks.\n",
              "      quickchartButtonEl.classList.add('colab-df-spinner');\n",
              "      try {\n",
              "        const charts = await google.colab.kernel.invokeFunction(\n",
              "            'suggestCharts', [key], {});\n",
              "      } catch (error) {\n",
              "        console.error('Error during call to suggestCharts:', error);\n",
              "      }\n",
              "      quickchartButtonEl.classList.remove('colab-df-spinner');\n",
              "      quickchartButtonEl.classList.add('colab-df-quickchart-complete');\n",
              "    }\n",
              "    (() => {\n",
              "      let quickchartButtonEl =\n",
              "        document.querySelector('#df-003b8f08-c7a8-442a-bc89-e273de7920e7 button');\n",
              "      quickchartButtonEl.style.display =\n",
              "        google.colab.kernel.accessAllowed ? 'block' : 'none';\n",
              "    })();\n",
              "  </script>\n",
              "</div>\n",
              "\n",
              "    </div>\n",
              "  </div>\n"
            ],
            "application/vnd.google.colaboratory.intrinsic+json": {
              "type": "dataframe",
              "summary": "{\n  \"name\": \"data\",\n  \"rows\": 8,\n  \"fields\": [\n    {\n      \"column\": \"App Usage Time (min/day)\",\n      \"properties\": {\n        \"dtype\": \"number\",\n        \"std\": 236.91767058989325,\n        \"min\": 30.0,\n        \"max\": 700.0,\n        \"num_unique_values\": 8,\n        \"samples\": [\n          271.12857142857143,\n          227.5,\n          700.0\n        ],\n        \"semantic_type\": \"\",\n        \"description\": \"\"\n      }\n    },\n    {\n      \"column\": \"Screen On Time (hours/day)\",\n      \"properties\": {\n        \"dtype\": \"number\",\n        \"std\": 245.68540754371344,\n        \"min\": 1.0,\n        \"max\": 700.0,\n        \"num_unique_values\": 8,\n        \"samples\": [\n          5.272714285714286,\n          4.9,\n          700.0\n        ],\n        \"semantic_type\": \"\",\n        \"description\": \"\"\n      }\n    },\n    {\n      \"column\": \"Battery Drain (mAh/day)\",\n      \"properties\": {\n        \"dtype\": \"number\",\n        \"std\": 904.2432531190871,\n        \"min\": 302.0,\n        \"max\": 2993.0,\n        \"num_unique_values\": 8,\n        \"samples\": [\n          1525.1585714285713,\n          1502.5,\n          700.0\n        ],\n        \"semantic_type\": \"\",\n        \"description\": \"\"\n      }\n    },\n    {\n      \"column\": \"Number of Apps Installed\",\n      \"properties\": {\n        \"dtype\": \"number\",\n        \"std\": 232.2817628173073,\n        \"min\": 10.0,\n        \"max\": 700.0,\n        \"num_unique_values\": 8,\n        \"samples\": [\n          50.68142857142857,\n          49.0,\n          700.0\n        ],\n        \"semantic_type\": \"\",\n        \"description\": \"\"\n      }\n    },\n    {\n      \"column\": \"Data Usage (MB/day)\",\n      \"properties\": {\n        \"dtype\": \"number\",\n        \"std\": 733.6975691630008,\n        \"min\": 102.0,\n        \"max\": 2497.0,\n        \"num_unique_values\": 8,\n        \"samples\": [\n          929.7428571428571,\n          823.5,\n          700.0\n        ],\n        \"semantic_type\": \"\",\n        \"description\": \"\"\n      }\n    },\n    {\n      \"column\": \"Age\",\n      \"properties\": {\n        \"dtype\": \"number\",\n        \"std\": 235.7425821163052,\n        \"min\": 12.012915932142542,\n        \"max\": 700.0,\n        \"num_unique_values\": 8,\n        \"samples\": [\n          38.48285714285714,\n          38.0,\n          700.0\n        ],\n        \"semantic_type\": \"\",\n        \"description\": \"\"\n      }\n    },\n    {\n      \"column\": \"User Behavior Class\",\n      \"properties\": {\n        \"dtype\": \"number\",\n        \"std\": 246.511486924161,\n        \"min\": 1.0,\n        \"max\": 700.0,\n        \"num_unique_values\": 8,\n        \"samples\": [\n          2.99,\n          3.0,\n          700.0\n        ],\n        \"semantic_type\": \"\",\n        \"description\": \"\"\n      }\n    }\n  ]\n}"
            }
          },
          "metadata": {},
          "execution_count": 124
        }
      ]
    },
    {
      "cell_type": "markdown",
      "source": [
        "##*6.Observations*"
      ],
      "metadata": {
        "id": "ugY_0wL3X3n4"
      }
    },
    {
      "cell_type": "markdown",
      "source": [
        "Detailed analysis and detailed understanding needed for exploration data analysis of this type of datasets"
      ],
      "metadata": {
        "id": "HmMTkDYzjMS_"
      }
    }
  ]
}